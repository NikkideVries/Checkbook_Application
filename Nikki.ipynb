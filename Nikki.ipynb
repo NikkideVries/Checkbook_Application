{
 "cells": [
  {
   "cell_type": "code",
   "execution_count": 3,
   "id": "47b59372-4842-4e35-bf0b-db8abfd6a412",
   "metadata": {
    "tags": []
   },
   "outputs": [
    {
     "name": "stdout",
     "output_type": "stream",
     "text": [
      "\n",
      "~~~ Welcome to your terminal checkbook! ~~~\n",
      "\n",
      "What would you like to do?\n",
      "\n",
      " 1. View Current Balance\n",
      " 2. Add a Debit (withdrawal)\n",
      " 3. Add a Credit (deposit)\n",
      " 4. Exit the Application\n",
      "\n"
     ]
    },
    {
     "name": "stdin",
     "output_type": "stream",
     "text": [
      "Please select a choice: 1\n"
     ]
    },
    {
     "name": "stdout",
     "output_type": "stream",
     "text": [
      "Your current balance is: $0\n",
      "\n",
      "~~~ Welcome to your terminal checkbook! ~~~\n",
      "\n",
      "What would you like to do?\n",
      "\n",
      " 1. View Current Balance\n",
      " 2. Add a Debit (withdrawal)\n",
      " 3. Add a Credit (deposit)\n",
      " 4. Exit the Application\n",
      "\n"
     ]
    },
    {
     "name": "stdin",
     "output_type": "stream",
     "text": [
      "Please select a choice: 30\n"
     ]
    },
    {
     "name": "stdout",
     "output_type": "stream",
     "text": [
      "Invalid Input\n",
      "\n",
      "~~~ Welcome to your terminal checkbook! ~~~\n",
      "\n",
      "What would you like to do?\n",
      "\n",
      " 1. View Current Balance\n",
      " 2. Add a Debit (withdrawal)\n",
      " 3. Add a Credit (deposit)\n",
      " 4. Exit the Application\n",
      "\n"
     ]
    },
    {
     "name": "stdin",
     "output_type": "stream",
     "text": [
      "Please select a choice: 2\n",
      "Enter the amount you would like to withdrawl: $ 30\n"
     ]
    },
    {
     "name": "stdout",
     "output_type": "stream",
     "text": [
      "Your current balance is:$ -30.0\n",
      "\n",
      "~~~ Welcome to your terminal checkbook! ~~~\n",
      "\n",
      "What would you like to do?\n",
      "\n",
      " 1. View Current Balance\n",
      " 2. Add a Debit (withdrawal)\n",
      " 3. Add a Credit (deposit)\n",
      " 4. Exit the Application\n",
      "\n"
     ]
    },
    {
     "name": "stdin",
     "output_type": "stream",
     "text": [
      "Please select a choice: 4\n"
     ]
    },
    {
     "name": "stdout",
     "output_type": "stream",
     "text": [
      "Exiting the Application. Goodbye!\n"
     ]
    }
   ],
   "source": [
    "import os \n",
    "import subprocess\n",
    "\n",
    "\n",
    "# Functions:\n",
    "# view current balance\n",
    "\n",
    "balance = 0\n",
    "def current_balance(balance):\n",
    "    print(f\"Your current balance is: ${balance}\")\n",
    "\n",
    "    \n",
    "    \n",
    "# add_debit: withdrawal\n",
    "def add_debit(balance):\n",
    "    balance -= debit_amount\n",
    "    print(f\"Your current balance is:$ {balance}\")\n",
    "    with open('balance.txt', 'a') as f:\n",
    "        f.write(f\"{debit_amount}\")\n",
    "    return balance\n",
    "\n",
    "\n",
    "\n",
    "# add_credit: deposit\n",
    "def add_credit(balance):\n",
    "    balance += credit_amount\n",
    "    print(f\"Your current balance is:$ {balance}\")\n",
    "    with open('balance.txt', 'a') as f:\n",
    "        f.write(f\"{debit_amount}\")\n",
    "    return balance\n",
    "\n",
    "# user input funciton\n",
    "\n",
    "\n",
    "while True:\n",
    "    print('\\n~~~ Welcome to your terminal checkbook! ~~~')\n",
    "    print()\n",
    "    print(\"What would you like to do?\\n\")\n",
    "    print(\" 1. View Current Balance\") \n",
    "    print(\" 2. Add a Debit (withdrawal)\")\n",
    "    print(\" 3. Add a Credit (deposit)\")\n",
    "    print(\" 4. Exit the Application\\n\")\n",
    "\n",
    "    choice = input(\"Please select a choice:\")\n",
    "\n",
    "    if choice == \"1\":\n",
    "        current_balance(balance)\n",
    "\n",
    "    elif choice == \"2\":\n",
    "        debit_amount = float(input(\"Enter the amount you would like to withdrawl: $\"))\n",
    "        balance = add_debit(balance)\n",
    "\n",
    "    elif choice == \"3\":\n",
    "        credit_amount = float(input(\"Enter the amount you would like to deposit: $\"))\n",
    "        balance = add_credit(balance)\n",
    "\n",
    "    elif choice == \"4\":\n",
    "        break\n",
    "    else:\n",
    "        print(\"Invalid Input\")\n",
    "\n",
    "\n",
    "print(\"Exiting the Application. Goodbye!\")"
   ]
  },
  {
   "cell_type": "code",
   "execution_count": null,
   "id": "a276c3f3-502f-4619-a8d1-1f95853a6055",
   "metadata": {},
   "outputs": [],
   "source": []
  }
 ],
 "metadata": {
  "kernelspec": {
   "display_name": "Python 3 (ipykernel)",
   "language": "python",
   "name": "python3"
  },
  "language_info": {
   "codemirror_mode": {
    "name": "ipython",
    "version": 3
   },
   "file_extension": ".py",
   "mimetype": "text/x-python",
   "name": "python",
   "nbconvert_exporter": "python",
   "pygments_lexer": "ipython3",
   "version": "3.11.4"
  }
 },
 "nbformat": 4,
 "nbformat_minor": 5
}
