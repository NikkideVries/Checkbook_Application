{
 "cells": [
  {
   "cell_type": "code",
   "execution_count": null,
   "id": "e67e6640-8bb5-499c-8b84-5f8e867faaec",
   "metadata": {},
   "outputs": [],
   "source": [
    "# Create Functions:\n",
    "# 1. Show current balance\n",
    "# 2. Add Debit\n",
    "# 3. Add Credit\n",
    "# 4. Exit"
   ]
  },
  {
   "cell_type": "code",
   "execution_count": 12,
   "id": "bb8dd814-23db-4b74-ba50-ca16a247fb1a",
   "metadata": {
    "tags": []
   },
   "outputs": [],
   "source": [
    "# needed to create file\n",
    "import os\n",
    "import subprocess"
   ]
  },
  {
   "cell_type": "code",
   "execution_count": 13,
   "id": "c55afbe9-ef12-4c47-9e5e-f5e48a3f1b80",
   "metadata": {
    "tags": []
   },
   "outputs": [],
   "source": [
    "# to create file:\n",
    "# with open([file_name], 'w') as f:\n",
    "#      f.write('something')\n",
    "\n",
    "# adding to a file:\n",
    "# with open([file_name], 'a') as f:\n",
    "#     f.write(more_lines)\n",
    "\n",
    "# w = will overwrite the file\n",
    "# a = will append to the file"
   ]
  },
  {
   "cell_type": "code",
   "execution_count": 3,
   "id": "530a31f5-e107-46cb-ac2e-6c665016b2cf",
   "metadata": {
    "tags": []
   },
   "outputs": [],
   "source": [
    "#make a easier way to call the file\n",
    "checkbook = 'balance.txt'"
   ]
  },
  {
   "cell_type": "code",
   "execution_count": 6,
   "id": "382690f6-423e-460c-8bb7-3d30ab2d2805",
   "metadata": {
    "tags": []
   },
   "outputs": [],
   "source": [
    "# make the starting balance 0\n",
    "balance = 0"
   ]
  },
  {
   "cell_type": "code",
   "execution_count": 1,
   "id": "31bd74e5-a659-48bc-b6d8-d9c6bb86cb5a",
   "metadata": {
    "tags": []
   },
   "outputs": [],
   "source": [
    "#if the file exists get the data from the file\n",
    "def load_checkbook():\n",
    "    # the balance is global: this means that any changes made to this balance it will effect the global balance.\n",
    "    global balance\n",
    "    # this checks if the 'balance.txt' file exists\n",
    "    if os.path.exists(checkbook):\n",
    "        # opens the file in read mode\n",
    "        with open(checkbook, \"r\") as file:\n",
    "            # reads the first line and converts it to a float\n",
    "            balance = float(file.readline())"
   ]
  },
  {
   "cell_type": "code",
   "execution_count": 4,
   "id": "b81e0960-2253-4c13-9a52-4aa47b6df8d9",
   "metadata": {
    "tags": []
   },
   "outputs": [],
   "source": [
    "# function to save the balance to 'balance.txt'\n",
    "def save_checkbook():\n",
    "    # write, not append, to the 'balance.txt' file\n",
    "    with open(checkbook, \"w\") as file:\n",
    "        # writes the balance as a string\n",
    "        file.write(str(balance))"
   ]
  },
  {
   "cell_type": "code",
   "execution_count": 26,
   "id": "0d72c3b5-1e07-4e98-a1cb-49b8725c4eac",
   "metadata": {
    "tags": []
   },
   "outputs": [],
   "source": [
    "# function for current balance\n",
    "def current_balance():\n",
    "    print(f\"Current Balance: ${balance}\")"
   ]
  },
  {
   "cell_type": "code",
   "execution_count": 32,
   "id": "5699690c-db33-4361-8f00-302e4b8ca303",
   "metadata": {
    "tags": []
   },
   "outputs": [],
   "source": [
    "# add_debit (withdrawal) function:\n",
    "\n",
    "def add_debit():\n",
    "    global balance\n",
    "    # requests for user input\n",
    "    amount = float(input(\"How much money would you like to withdrawal: $\"))\n",
    "    \n",
    "    # Check if the input is a valid number\n",
    "    #if amount_str.replace('.', '', 1).isdigit():\n",
    "        # amount = float(amount_str)\n",
    "        \n",
    "    # Check if the amount is positive\n",
    "    if amount > 0:\n",
    "        # Check if there is sufficient balance\n",
    "        if amount <= balance:\n",
    "            balance -= amount\n",
    "            # amount: .2f formats the amount to a floating number with 2 decimal places\n",
    "            print(f\"Withdrawing: ${amount:.2f}\")\n",
    "            # saves the balance to the 'balance.txt' file\n",
    "            save_checkbook()\n",
    "        # if the amount is more than the balance you cannot pull out money you dont have\n",
    "        else:\n",
    "            print(\"Insufficient balance. You dont have enough funds to withdrawal\")\n",
    "    else:\n",
    "        print(\"Invalid amount. Please enter a positive amount.\")\n",
    "\n",
    "    "
   ]
  },
  {
   "cell_type": "code",
   "execution_count": 35,
   "id": "bc7cc4e6-8e65-49af-9bcf-ef0d597f2d17",
   "metadata": {
    "tags": []
   },
   "outputs": [],
   "source": [
    "# add_credit (deposit) function\n",
    "def add_credit():\n",
    "    global balance\n",
    "    amount = float(input(\"How much money would you like to deposit: \"))\n",
    "    \n",
    "    # Check if the input is a valid number\n",
    "     # if amount_str.replace('.', '', 1).isdigit():\n",
    "         # amount = float(amount_str)\n",
    "        \n",
    "    # Check if the amount is positive\n",
    "    if amount > 0:\n",
    "        balance += amount\n",
    "        # amount: .2f formats the amount to a floating number with 2 decimal places\n",
    "        print(f\"Depositing: ${amount:.2f}\")\n",
    "        # this will update the checkbook balance and input the new value\n",
    "        save_checkbook()\n",
    "    # if the value inputed is not a float or accepted value.\n",
    "    else:\n",
    "        print(\"Invalid amount. Please enter a positive amount.\")\n",
    "    "
   ]
  },
  {
   "cell_type": "code",
   "execution_count": 34,
   "id": "0becade6-5f50-48f0-b1bc-711108878bba",
   "metadata": {
    "tags": []
   },
   "outputs": [
    {
     "name": "stdout",
     "output_type": "stream",
     "text": [
      " ~~~ Welcome to your terminal checkbook! ~~~\n",
      "\n",
      "Menu:\n",
      "1. View current balance\n",
      "2. Add a debit (withdrawal)\n",
      "3. Add a credit (deposit)\n",
      "4. Exit\n"
     ]
    },
    {
     "name": "stdin",
     "output_type": "stream",
     "text": [
      "Please make a choice:  4\n"
     ]
    },
    {
     "name": "stdout",
     "output_type": "stream",
     "text": [
      "Exiting Aplication. Goodbye!\n",
      "Your balance is:  $64.00\n"
     ]
    }
   ],
   "source": [
    "load_checkbook()\n",
    "print(' ~~~ Welcome to your terminal checkbook! ~~~')\n",
    "\n",
    "while True:\n",
    "    print(\"\\nMenu:\")\n",
    "    print(\"1. View current balance\")\n",
    "    print(\"2. Add a debit (withdrawal)\")\n",
    "    print(\"3. Add a credit (deposit)\")\n",
    "    print(\"4. Exit\")\n",
    "\n",
    "    choice = input(\"Please make a choice: \")\n",
    "\n",
    "    if choice == \"1\":\n",
    "        current_balance()\n",
    "    elif choice == \"2\":\n",
    "        add_debit()\n",
    "    elif choice == \"3\":\n",
    "        add_credit()\n",
    "    elif choice == \"4\":\n",
    "        print(\"Exiting Aplication. Goodbye!\")\n",
    "        # balance: .2f formats the amount to a floating number with 2 decimal places\n",
    "        print(f\"Your balance is:  ${balance:.2f}\")\n",
    "        break\n",
    "    else:\n",
    "        print(\"Invalid choice. Please select a valid option (1-4).\")"
   ]
  },
  {
   "cell_type": "code",
   "execution_count": null,
   "id": "4120b54f-8ecf-4e3f-83d9-3a89a5ea5300",
   "metadata": {},
   "outputs": [],
   "source": []
  }
 ],
 "metadata": {
  "kernelspec": {
   "display_name": "Python 3 (ipykernel)",
   "language": "python",
   "name": "python3"
  },
  "language_info": {
   "codemirror_mode": {
    "name": "ipython",
    "version": 3
   },
   "file_extension": ".py",
   "mimetype": "text/x-python",
   "name": "python",
   "nbconvert_exporter": "python",
   "pygments_lexer": "ipython3",
   "version": "3.11.4"
  }
 },
 "nbformat": 4,
 "nbformat_minor": 5
}
