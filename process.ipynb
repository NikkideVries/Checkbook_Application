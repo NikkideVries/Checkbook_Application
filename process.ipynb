{
 "cells": [
  {
   "cell_type": "code",
   "execution_count": null,
   "id": "79d5455c-4caa-4e03-bac9-55b445c236b3",
   "metadata": {
    "tags": []
   },
   "outputs": [],
   "source": [
    "# Define Functions:\n",
    "# 1. View Current Balance\n",
    "# 2. Add a Debit\n",
    "# 3. Add a Credit\n",
    "# 4. Exit (this will be in the user input prompt)"
   ]
  },
  {
   "cell_type": "code",
   "execution_count": 33,
   "id": "86ccfcca-4180-4333-a2e0-f8666643df17",
   "metadata": {
    "tags": []
   },
   "outputs": [],
   "source": [
    "import os \n",
    "import subprocess"
   ]
  },
  {
   "cell_type": "code",
   "execution_count": 51,
   "id": "5f67fa6d-b22e-43e5-bc87-1cffcdc2e6b7",
   "metadata": {
    "tags": []
   },
   "outputs": [],
   "source": [
    "# record of balance on file:\n",
    "    \n",
    "def ini_balance():\n",
    "    try:\n",
    "        with open('balance.txt', \"r\") as file:\n",
    "            transactions = file.readlines()\n",
    "        balance = sum(map(float, transactions))\n",
    "    except FileNotFoundError:\n",
    "        balance = 0.0\n",
    "    return balance"
   ]
  },
  {
   "cell_type": "code",
   "execution_count": 57,
   "id": "b1125877-c20e-4d5c-a36f-77c210eabf22",
   "metadata": {
    "tags": []
   },
   "outputs": [],
   "source": [
    "# Functions:\n",
    "# view current balance\n",
    "\n",
    "def current_balance(balance):\n",
    "    print(f\"Your current balance is: ${balance}\")\n",
    "\n",
    "    \n",
    "    \n",
    "# add_debit: withdrawal\n",
    "def add_debit(balance):\n",
    "    balance -= debit_amount\n",
    "    print(f\"Your current balance is:$ {balance}\")\n",
    "    with open('balance.txt', 'w') as f:\n",
    "        f.write(f\"{balance}\")\n",
    "    return balance\n",
    "\n",
    "\n",
    "\n",
    "# add_credit: deposit\n",
    "def add_credit(balance):\n",
    "    balance += credit_amount\n",
    "    print(f\"Your current balance is:$ {balance}\")\n",
    "    with open('balance.txt', 'w') as f:\n",
    "        f.write(f\"{balance}\")\n",
    "    return balance\n",
    "\n",
    "# to exit the application"
   ]
  },
  {
   "cell_type": "code",
   "execution_count": null,
   "id": "2d1ff764-cbad-454d-8923-82fa6977b872",
   "metadata": {
    "tags": []
   },
   "outputs": [
    {
     "name": "stdout",
     "output_type": "stream",
     "text": [
      "\n",
      "~~~ Welcome to your terminal checkbook! ~~~\n",
      "\n",
      "What would you like to do?\n",
      "\n",
      " 1. View Current Balance\n",
      " 2. Add a Debit (withdrawal)\n",
      " 3. Add a Credit (deposit)\n",
      " 4. Exit the Application\n",
      "\n"
     ]
    },
    {
     "name": "stdin",
     "output_type": "stream",
     "text": [
      "Please select a choice: 1\n"
     ]
    },
    {
     "name": "stdout",
     "output_type": "stream",
     "text": [
      "Your current balance is: $0\n",
      "\n",
      "~~~ Welcome to your terminal checkbook! ~~~\n",
      "\n",
      "What would you like to do?\n",
      "\n",
      " 1. View Current Balance\n",
      " 2. Add a Debit (withdrawal)\n",
      " 3. Add a Credit (deposit)\n",
      " 4. Exit the Application\n",
      "\n"
     ]
    }
   ],
   "source": [
    "# user input funciton\n",
    "\n",
    "\n",
    "while True:\n",
    "    balance = initial_balance()\n",
    "    \n",
    "    print('\\n~~~ Welcome to your terminal checkbook! ~~~')\n",
    "    print()\n",
    "    print(\"What would you like to do?\\n\")\n",
    "    print(\" 1. View Current Balance\") \n",
    "    print(\" 2. Add a Debit (withdrawal)\")\n",
    "    print(\" 3. Add a Credit (deposit)\")\n",
    "    print(\" 4. Exit the Application\\n\")\n",
    "\n",
    "    choice = input(\"Please select a choice:\")\n",
    "\n",
    "    if choice == \"1\":\n",
    "        current_balance(balance)\n",
    "\n",
    "    elif choice == \"2\":\n",
    "        debit_amount = float(input(\"Enter the amount you would like to withdrawl: $\"))\n",
    "        balance = add_debit(balance)\n",
    "\n",
    "    elif choice == \"3\":\n",
    "        credit_amount = float(input(\"Enter the amount you would like to deposit: $\"))\n",
    "        balance = add_credit(balance)\n",
    "\n",
    "    elif choice == \"4\":\n",
    "        break\n",
    "    else:\n",
    "        print(\"Invalid Input\")\n",
    "\n",
    "\n",
    "print(\"Exiting the Application. Goodbye!\")\n",
    "\n",
    "    "
   ]
  },
  {
   "cell_type": "code",
   "execution_count": 27,
   "id": "b358aa62-8f0f-4ce7-ac4f-c44ec70bc42c",
   "metadata": {
    "tags": []
   },
   "outputs": [
    {
     "data": {
      "text/plain": [
       "CompletedProcess(args=['code', 'balance.txt'], returncode=0)"
      ]
     },
     "execution_count": 27,
     "metadata": {},
     "output_type": "execute_result"
    }
   ],
   "source": [
    "subprocess.run([\"code\", \"balance.txt\"])"
   ]
  },
  {
   "cell_type": "code",
   "execution_count": 55,
   "id": "71ae4d96-9a04-4964-98c3-64ae2ff39481",
   "metadata": {
    "tags": []
   },
   "outputs": [
    {
     "data": {
      "text/plain": [
       "<function __main__.main()>"
      ]
     },
     "execution_count": 55,
     "metadata": {},
     "output_type": "execute_result"
    }
   ],
   "source": [
    "main"
   ]
  },
  {
   "cell_type": "code",
   "execution_count": null,
   "id": "c7c8fdd1-12d7-4227-8493-10e842810f3f",
   "metadata": {},
   "outputs": [],
   "source": []
  }
 ],
 "metadata": {
  "kernelspec": {
   "display_name": "Python 3 (ipykernel)",
   "language": "python",
   "name": "python3"
  },
  "language_info": {
   "codemirror_mode": {
    "name": "ipython",
    "version": 3
   },
   "file_extension": ".py",
   "mimetype": "text/x-python",
   "name": "python",
   "nbconvert_exporter": "python",
   "pygments_lexer": "ipython3",
   "version": "3.11.4"
  }
 },
 "nbformat": 4,
 "nbformat_minor": 5
}
