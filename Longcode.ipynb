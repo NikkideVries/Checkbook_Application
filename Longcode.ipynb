{
 "cells": [
  {
   "cell_type": "code",
   "execution_count": 1,
   "id": "a19479c7-3eda-414b-8d93-a199724fb0fe",
   "metadata": {
    "tags": []
   },
   "outputs": [],
   "source": [
    "# Create Funtions:\n",
    "#1. Create file"
   ]
  },
  {
   "cell_type": "code",
   "execution_count": 4,
   "id": "509b85d6-9cf6-48f3-afc4-0ec485babed4",
   "metadata": {
    "tags": []
   },
   "outputs": [],
   "source": [
    "import os"
   ]
  },
  {
   "cell_type": "code",
   "execution_count": 5,
   "id": "882998cd-7fdc-4bd9-8183-29a0d90f2c75",
   "metadata": {
    "tags": []
   },
   "outputs": [],
   "source": [
    "# make the name of the file\n",
    "checkbook = 'balance.txt'"
   ]
  },
  {
   "cell_type": "code",
   "execution_count": 6,
   "id": "963f661a-c9af-4d28-87dd-aa9dca097973",
   "metadata": {
    "tags": []
   },
   "outputs": [],
   "source": [
    "# starting balance = 0\n",
    "balance = 0"
   ]
  },
  {
   "cell_type": "code",
   "execution_count": 7,
   "id": "4549d0dc-5318-42b8-880c-54037c86f196",
   "metadata": {
    "tags": []
   },
   "outputs": [],
   "source": [
    "# get data drom the file\n",
    "def load_checkbook():\n",
    "    global balance\n",
    "    if os.path.exists(checkbook):\n",
    "        with open(checkbook, \"r\") as file:\n",
    "            balance = float(file.readline())"
   ]
  },
  {
   "cell_type": "code",
   "execution_count": 8,
   "id": "d41a099e-ffe4-45ef-b2ab-f21d22c9fc81",
   "metadata": {
    "tags": []
   },
   "outputs": [],
   "source": [
    "# save data to the balance file\n",
    "def save_checkbook():\n",
    "    with open(checkbook, \"w\") as file:\n",
    "        file.write(str(balance))"
   ]
  },
  {
   "cell_type": "code",
   "execution_count": 9,
   "id": "73f07d79-2146-4df4-b3e5-65bdbfa948ef",
   "metadata": {
    "tags": []
   },
   "outputs": [],
   "source": [
    "# show the current balance:\n",
    "def current_balance():\n",
    "    print(f\"Current Balance: ${balance}\")"
   ]
  },
  {
   "cell_type": "code",
   "execution_count": 10,
   "id": "c86c34bf-f548-4357-a600-5c9c3112de86",
   "metadata": {
    "tags": []
   },
   "outputs": [],
   "source": [
    "# add_debit (withdrawal)\n",
    "def add_debit():\n",
    "    global balance\n",
    "    amount_str = input(\"How much money would you like to withdrawal: $\")\n",
    "    \n",
    "    # Check if the input is a valid number\n",
    "    if amount_str.replace('.', '', 1).isdigit():\n",
    "        amount = float(amount_str)\n",
    "        \n",
    "        # Check if the amount is positive\n",
    "        if amount > 0:\n",
    "            # Check if there is sufficient balance\n",
    "            if amount <= balance:\n",
    "                balance -= amount\n",
    "                print(f\"Withdrawing: ${amount:.2f}\")\n",
    "                save_checkbook()\n",
    "            else:\n",
    "                print(\"Insufficient balance.\")\n",
    "        else:\n",
    "            print(\"Invalid amount. Please enter a positive value.\")\n",
    "    else:\n",
    "        print(\"Invalid input. Please enter a valid number.\")"
   ]
  },
  {
   "cell_type": "code",
   "execution_count": 11,
   "id": "6e3c96b4-3771-4575-9c1f-195588e6766a",
   "metadata": {
    "tags": []
   },
   "outputs": [],
   "source": [
    "# add_credit(deposit)\n",
    "def add_credit():\n",
    "    global balance\n",
    "    amount_str = input(\"How much money would you like to deposit: \")\n",
    "    \n",
    "    # Check if the input is a valid number\n",
    "    if amount_str.replace('.', '', 1).isdigit():\n",
    "        amount = float(amount_str)\n",
    "        \n",
    "        # Check if the amount is positive\n",
    "        if amount > 0:\n",
    "            balance += amount\n",
    "            print(f\"Depositing: ${amount:.2f}\")\n",
    "            # this will update the checkbook balance and input the new value\n",
    "            save_checkbook()\n",
    "        else:\n",
    "            print(\"Invalid amount. Please enter a positive value.\")\n",
    "    else:\n",
    "        print(\"Invalid input. Please enter a valid number.\")"
   ]
  },
  {
   "cell_type": "code",
   "execution_count": 12,
   "id": "519e3c39-de8c-418d-b444-ac20235f3c49",
   "metadata": {
    "tags": []
   },
   "outputs": [
    {
     "name": "stdout",
     "output_type": "stream",
     "text": [
      " ~~~ Welcome to your terminal checkbook! ~~~\n",
      "\n",
      "Menu:\n",
      "1. View current balance\n",
      "2. Add a debit (withdrawal)\n",
      "3. Add a credit (deposit)\n",
      "4. Exit\n"
     ]
    },
    {
     "name": "stdin",
     "output_type": "stream",
     "text": [
      "Please make a choice:  1\n"
     ]
    },
    {
     "name": "stdout",
     "output_type": "stream",
     "text": [
      "Current Balance: $10.0\n",
      "\n",
      "Menu:\n",
      "1. View current balance\n",
      "2. Add a debit (withdrawal)\n",
      "3. Add a credit (deposit)\n",
      "4. Exit\n"
     ]
    },
    {
     "name": "stdin",
     "output_type": "stream",
     "text": [
      "Please make a choice:  4\n"
     ]
    },
    {
     "name": "stdout",
     "output_type": "stream",
     "text": [
      "Exiting Aplication. Goodbye!\n"
     ]
    }
   ],
   "source": [
    "load_checkbook()\n",
    "print(' ~~~ Welcome to your terminal checkbook! ~~~')\n",
    "\n",
    "while True:\n",
    "    print(\"\\nMenu:\")\n",
    "    print(\"1. View current balance\")\n",
    "    print(\"2. Add a debit (withdrawal)\")\n",
    "    print(\"3. Add a credit (deposit)\")\n",
    "    print(\"4. Exit\")\n",
    "\n",
    "    choice = input(\"Please make a choice: \")\n",
    "\n",
    "    if choice == \"1\":\n",
    "        current_balance()\n",
    "    elif choice == \"2\":\n",
    "        add_debit()\n",
    "    elif choice == \"3\":\n",
    "        add_credit()\n",
    "    elif choice == \"4\":\n",
    "        print(\"Exiting Aplication. Goodbye!\")\n",
    "        break\n",
    "    else:\n",
    "        print(\"Invalid choice. Please select a valid option (1-4).\")"
   ]
  },
  {
   "cell_type": "code",
   "execution_count": null,
   "id": "e6974091-59ec-4f9f-9541-1d1b28fb79a4",
   "metadata": {},
   "outputs": [],
   "source": []
  }
 ],
 "metadata": {
  "kernelspec": {
   "display_name": "Python 3 (ipykernel)",
   "language": "python",
   "name": "python3"
  },
  "language_info": {
   "codemirror_mode": {
    "name": "ipython",
    "version": 3
   },
   "file_extension": ".py",
   "mimetype": "text/x-python",
   "name": "python",
   "nbconvert_exporter": "python",
   "pygments_lexer": "ipython3",
   "version": "3.11.4"
  }
 },
 "nbformat": 4,
 "nbformat_minor": 5
}
