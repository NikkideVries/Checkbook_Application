{
 "cells": [
  {
   "cell_type": "markdown",
   "id": "676340b0-8e89-479d-b4d1-2c10f18bb2de",
   "metadata": {},
   "source": [
    "##### Bonus Features:\n",
    "In no particular order, things to try:\n",
    "\n",
    "- Add a menu item that allows the user to view all historical transactions\n",
    "- Assign categories to each transaction\n",
    "    - Add a menu item to allow the user to view all the transactions in a given category\n",
    "    - Provide the user with summary statistics about the transactions in each category\n",
    "- Keep track of the date and time that each transaction happened\n",
    "    - Allow the user to view all the transactions for a given day\n",
    "    - Hint: Make sure your list of previous transactions includes the timestamp for each\n",
    "- Allow the user to optionally provide a description for each transaction\n",
    "    - Allow the user to search for keywords in the transaction descriptions, and show all the transactions that match the user's search term\n",
    "- Allow the user to modify past transactions"
   ]
  },
  {
   "cell_type": "code",
   "execution_count": 1,
   "id": "fd9942a8-68ec-4fb1-b2c8-618e53880a28",
   "metadata": {
    "tags": []
   },
   "outputs": [],
   "source": [
    "# needed to create file\n",
    "import os\n",
    "import subprocess"
   ]
  },
  {
   "cell_type": "code",
   "execution_count": 2,
   "id": "4ab7706b-b197-42f0-93ca-f75ddc3abd20",
   "metadata": {
    "tags": []
   },
   "outputs": [],
   "source": [
    "# to create file:\n",
    "# with open([file_name], 'w') as f:\n",
    "#      f.write('something')\n",
    "\n",
    "# adding to a file:\n",
    "# with open([file_name], 'a') as f:\n",
    "#     f.write(more_lines)\n",
    "\n",
    "# w = will overwrite the file\n",
    "# a = will append to the file"
   ]
  },
  {
   "cell_type": "code",
   "execution_count": 3,
   "id": "fa7a35a1-21c2-40d3-9b23-d737a5ec5462",
   "metadata": {
    "tags": []
   },
   "outputs": [],
   "source": [
    "#make a easier way to call the file\n",
    "checkbook = 'balance.txt'"
   ]
  },
  {
   "cell_type": "code",
   "execution_count": 4,
   "id": "7cd57d21-537a-4761-b628-320a9642853f",
   "metadata": {
    "tags": []
   },
   "outputs": [],
   "source": [
    "# make the starting balance 0\n",
    "balance = 0"
   ]
  },
  {
   "cell_type": "code",
   "execution_count": 5,
   "id": "25ffe92c-559c-4ded-b1eb-539fa250525e",
   "metadata": {
    "tags": []
   },
   "outputs": [],
   "source": [
    "#if the file exists get the data from the file\n",
    "def load_checkbook():\n",
    "    # the balance is global: this means that any changes made to this balance it will effect the global balance.\n",
    "    global balance\n",
    "    # this checks if the 'balance.txt' file exists\n",
    "    if os.path.exists(checkbook):\n",
    "        # opens the file in read mode\n",
    "        with open(checkbook, \"r\") as file:\n",
    "            # reads the first line and converts it to a float\n",
    "            balance = float(file.readline())"
   ]
  },
  {
   "cell_type": "code",
   "execution_count": 6,
   "id": "6b5e2682-bf97-489f-aa89-7fddd7029afb",
   "metadata": {
    "tags": []
   },
   "outputs": [],
   "source": [
    "# function to save the balance to 'balance.txt'\n",
    "def save_checkbook():\n",
    "    # write, not append, to the 'balance.txt' file\n",
    "    with open(checkbook, \"w\") as file:\n",
    "        # writes the balance as a string\n",
    "        file.write(str(balance))"
   ]
  },
  {
   "cell_type": "code",
   "execution_count": 7,
   "id": "3d1be456-f67e-4312-9626-76f2e3f997ab",
   "metadata": {
    "tags": []
   },
   "outputs": [],
   "source": [
    "# function to save transactions\n",
    "transactions = \"transactions.txt\"\n",
    "\n",
    "# check for the file\n",
    "def check_file():\n",
    "    if not os.path.exists(transactions):\n",
    "        with open(transactions, 'w') as file:\n",
    "            file.write()\n",
    "\n",
    "def save_transactions():\n",
    "    with open(transactions, 'a') as file:\n",
    "        file.writelines(str(f' current balance {balance} and {[transac]}'))\n",
    "\n"
   ]
  },
  {
   "cell_type": "code",
   "execution_count": 8,
   "id": "88d5180a-720e-4b03-9aa7-91bc7b645512",
   "metadata": {
    "tags": []
   },
   "outputs": [],
   "source": [
    "def current_balance():\n",
    "    print(f\"Current Balance: ${balance}\")"
   ]
  },
  {
   "cell_type": "code",
   "execution_count": 9,
   "id": "9d117b89-5e65-4cf6-a109-38534322ceab",
   "metadata": {
    "tags": []
   },
   "outputs": [],
   "source": [
    "# add_debit (withdrawal) function:\n",
    "\n",
    "def add_debit():\n",
    "    global balance\n",
    "    amount_str = input(\"How much money would you like to withdrawal: $\")\n",
    "    \n",
    "    # Check if the input is a valid number\n",
    "    if amount_str.replace('.', '', 1).isdigit():\n",
    "        amount = float(amount_str)\n",
    "        \n",
    "        # Check if the amount is positive\n",
    "        if amount > 0:\n",
    "            # Check if there is sufficient balance\n",
    "            if amount <= balance:\n",
    "                balance -= amount\n",
    "                print(f\"Withdrawing: ${amount:.2f}\")\n",
    "                save_checkbook()\n",
    "                with open(transactions, 'a') as file:\n",
    "                    file.writelines(str(f'\\nwithdrawing {amount:.2f}\\n-----new balance {balance:.2f}'))\n",
    "\n",
    "            else:\n",
    "                print(\"Insufficient balance.\")\n",
    "        else:\n",
    "            print(\"Invalid amount. Please enter a positive value.\")\n",
    "    else:\n",
    "        print(\"Invalid input. Please enter a valid number.\")\n"
   ]
  },
  {
   "cell_type": "code",
   "execution_count": 10,
   "id": "776b1f66-eb23-4df4-9b6e-695d3fd1eb35",
   "metadata": {
    "tags": []
   },
   "outputs": [],
   "source": [
    "def add_credit():\n",
    "    global balance\n",
    "    amount_str = input(\"How much money would you like to deposit: \")\n",
    "    \n",
    "    # Check if the input is a valid number\n",
    "    if amount_str.replace('.', '', 1).isdigit():\n",
    "        amount = float(amount_str)\n",
    "        \n",
    "        # Check if the amount is positive\n",
    "        if amount > 0:\n",
    "            balance += amount\n",
    "            print(f\"Depositing: ${amount:.2f}\")\n",
    "            # this will update the checkbook balance and input the new value\n",
    "            save_checkbook()\n",
    "            with open(transactions, 'a') as file:\n",
    "                file.writelines(str(f'\\ndepositing ${amount:.2f}\\n-----new balance {balance:.2f}'))\n",
    "\n",
    "        else:\n",
    "            print(\"Invalid amount. Please enter a positive value.\")\n",
    "    else:\n",
    "        print(\"Invalid input. Please enter a valid number.\")"
   ]
  },
  {
   "cell_type": "code",
   "execution_count": 11,
   "id": "06ba6235-d485-4a96-8cc9-af9dcd967c91",
   "metadata": {
    "tags": []
   },
   "outputs": [],
   "source": [
    "def exit_program():\n",
    "    global balance\n",
    "    save_checkbook()\n",
    "    print(\"Exiting Aplication. Goodbye!\")\n",
    "    print(f\"\\nYour balance is:  ${balance:.2f}\")\n",
    "    exit()"
   ]
  },
  {
   "cell_type": "code",
   "execution_count": null,
   "id": "8cfe25e5-f97f-4f70-bbc9-266e8ab206e3",
   "metadata": {
    "tags": []
   },
   "outputs": [
    {
     "name": "stdout",
     "output_type": "stream",
     "text": [
      " ~~~ Welcome to your terminal checkbook! ~~~\n",
      "\n",
      "Menu:\n",
      "1. View current balance\n",
      "2. Add a debit (withdrawal)\n",
      "3. Add a credit (deposit)\n",
      "4. Exit\n",
      "5. More options\n"
     ]
    },
    {
     "name": "stdin",
     "output_type": "stream",
     "text": [
      "Please make a choice:  1\n"
     ]
    },
    {
     "name": "stdout",
     "output_type": "stream",
     "text": [
      "Current Balance: $0.0\n",
      "\n",
      "Menu:\n",
      "1. View current balance\n",
      "2. Add a debit (withdrawal)\n",
      "3. Add a credit (deposit)\n",
      "4. Exit\n",
      "5. More options\n"
     ]
    },
    {
     "name": "stdin",
     "output_type": "stream",
     "text": [
      "Please make a choice:  2\n",
      "How much money would you like to withdrawal: $ 2\n"
     ]
    },
    {
     "name": "stdout",
     "output_type": "stream",
     "text": [
      "Insufficient balance.\n",
      "\n",
      "Menu:\n",
      "1. View current balance\n",
      "2. Add a debit (withdrawal)\n",
      "3. Add a credit (deposit)\n",
      "4. Exit\n",
      "5. More options\n"
     ]
    },
    {
     "name": "stdin",
     "output_type": "stream",
     "text": [
      "Please make a choice:  1\n"
     ]
    },
    {
     "name": "stdout",
     "output_type": "stream",
     "text": [
      "Current Balance: $0.0\n",
      "\n",
      "Menu:\n",
      "1. View current balance\n",
      "2. Add a debit (withdrawal)\n",
      "3. Add a credit (deposit)\n",
      "4. Exit\n",
      "5. More options\n"
     ]
    },
    {
     "name": "stdin",
     "output_type": "stream",
     "text": [
      "Please make a choice:  3\n",
      "How much money would you like to deposit:  2\n"
     ]
    },
    {
     "name": "stdout",
     "output_type": "stream",
     "text": [
      "Depositing: $2.00\n",
      "\n",
      "Menu:\n",
      "1. View current balance\n",
      "2. Add a debit (withdrawal)\n",
      "3. Add a credit (deposit)\n",
      "4. Exit\n",
      "5. More options\n"
     ]
    },
    {
     "name": "stdin",
     "output_type": "stream",
     "text": [
      "Please make a choice:  1\n"
     ]
    },
    {
     "name": "stdout",
     "output_type": "stream",
     "text": [
      "Current Balance: $2.0\n",
      "\n",
      "Menu:\n",
      "1. View current balance\n",
      "2. Add a debit (withdrawal)\n",
      "3. Add a credit (deposit)\n",
      "4. Exit\n",
      "5. More options\n"
     ]
    },
    {
     "name": "stdin",
     "output_type": "stream",
     "text": [
      "Please make a choice:  2\n",
      "How much money would you like to withdrawal: $ 1\n"
     ]
    },
    {
     "name": "stdout",
     "output_type": "stream",
     "text": [
      "Withdrawing: $1.00\n",
      "\n",
      "Menu:\n",
      "1. View current balance\n",
      "2. Add a debit (withdrawal)\n",
      "3. Add a credit (deposit)\n",
      "4. Exit\n",
      "5. More options\n"
     ]
    },
    {
     "name": "stdin",
     "output_type": "stream",
     "text": [
      "Please make a choice:  2\n",
      "How much money would you like to withdrawal: $ 1\n"
     ]
    },
    {
     "name": "stdout",
     "output_type": "stream",
     "text": [
      "Withdrawing: $1.00\n",
      "\n",
      "Menu:\n",
      "1. View current balance\n",
      "2. Add a debit (withdrawal)\n",
      "3. Add a credit (deposit)\n",
      "4. Exit\n",
      "5. More options\n"
     ]
    },
    {
     "name": "stdin",
     "output_type": "stream",
     "text": [
      "Please make a choice:  1\n"
     ]
    },
    {
     "name": "stdout",
     "output_type": "stream",
     "text": [
      "Current Balance: $0.0\n",
      "\n",
      "Menu:\n",
      "1. View current balance\n",
      "2. Add a debit (withdrawal)\n",
      "3. Add a credit (deposit)\n",
      "4. Exit\n",
      "5. More options\n"
     ]
    }
   ],
   "source": [
    "load_checkbook()\n",
    "print(' ~~~ Welcome to your terminal checkbook! ~~~')\n",
    "\n",
    "while True:\n",
    "    print(\"\\nMenu:\")\n",
    "    print(\"1. View current balance\")\n",
    "    print(\"2. Add a debit (withdrawal)\")\n",
    "    print(\"3. Add a credit (deposit)\")\n",
    "    print(\"4. Exit\")\n",
    "    print(\"5. More options\")\n",
    "\n",
    "    choice = input(\"Please make a choice: \")\n",
    "\n",
    "    if choice == \"1\":\n",
    "        current_balance()\n",
    "    elif choice == \"2\":\n",
    "        add_debit()\n",
    "    elif choice == \"3\":\n",
    "        add_credit()\n",
    "    elif choice == \"4\":\n",
    "        exit_program()\n",
    "        break\n",
    "    elif choice == \"5\":\n",
    "        more_options()\n",
    "\n",
    "    else:\n",
    "        print(\"Invalid choice. Please select a valid option (1-4).\")"
   ]
  },
  {
   "cell_type": "code",
   "execution_count": null,
   "id": "b8633e5a-ed51-4dac-af20-bef9891ac808",
   "metadata": {},
   "outputs": [],
   "source": [
    "with open(transactions) as file:\n",
    "    print"
   ]
  },
  {
   "cell_type": "code",
   "execution_count": null,
   "id": "9ad374df-0647-438c-aaa5-d6cb9ffea9fc",
   "metadata": {
    "tags": []
   },
   "outputs": [],
   "source": [
    "def more_options():\n",
    "    \n",
    "    while True:\n",
    "        print('a. View your transaction history')\n",
    "        print('b. Exit')\n",
    "        \n",
    "        option = input(\"Please choice a letter\")\n",
    "        \n",
    "        if option == \"a\":\n",
    "            with open(transactions) as file:\n",
    "                print(file.read())       \n",
    "        elif option == \"b\":\n",
    "            print('Leaving options')\n",
    "            break        "
   ]
  }
 ],
 "metadata": {
  "kernelspec": {
   "display_name": "Python 3 (ipykernel)",
   "language": "python",
   "name": "python3"
  },
  "language_info": {
   "codemirror_mode": {
    "name": "ipython",
    "version": 3
   },
   "file_extension": ".py",
   "mimetype": "text/x-python",
   "name": "python",
   "nbconvert_exporter": "python",
   "pygments_lexer": "ipython3",
   "version": "3.10.9"
  }
 },
 "nbformat": 4,
 "nbformat_minor": 5
}
